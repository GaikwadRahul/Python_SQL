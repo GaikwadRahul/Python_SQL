{
 "cells": [
  {
   "cell_type": "code",
   "execution_count": 1,
   "metadata": {},
   "outputs": [],
   "source": [
    "import mysql.connector\n",
    "from mysql.connector import Error\n",
    "import pandas as pd"
   ]
  },
  {
   "cell_type": "markdown",
   "metadata": {},
   "source": [
    "# Function to connect to server"
   ]
  },
  {
   "cell_type": "code",
   "execution_count": 2,
   "metadata": {},
   "outputs": [
    {
     "name": "stdout",
     "output_type": "stream",
     "text": [
      "MySQL Database connection successful\n"
     ]
    }
   ],
   "source": [
    "def create_server_connection(host_name, user_name, user_password):\n",
    "    connection = None\n",
    "    try:\n",
    "        connection = mysql.connector.connect(\n",
    "            host=host_name,\n",
    "            user=user_name,\n",
    "            passwd=user_password\n",
    "        )\n",
    "        print(\"MySQL Database connection successful\")\n",
    "    except Error as err:\n",
    "        print(f\"Error: '{err}'\")\n",
    "\n",
    "    return connection\n",
    "\n",
    "pw = \"Rahul@112028\"\n",
    "connection = create_server_connection(\"localhost\", \"root\", pw)"
   ]
  },
  {
   "cell_type": "markdown",
   "metadata": {},
   "source": [
    "# Function to create database connection"
   ]
  },
  {
   "cell_type": "code",
   "execution_count": 3,
   "metadata": {},
   "outputs": [],
   "source": [
    "def create_db_connection(host_name, user_name, user_password, db_name):\n",
    "    connection = None\n",
    "    try:\n",
    "        connection = mysql.connector.connect(\n",
    "            host=host_name,\n",
    "            user=user_name,\n",
    "            passwd=user_password,\n",
    "            database=db_name\n",
    "        )\n",
    "        print(\"MySQL Database connection successful\")\n",
    "    except Error as err:\n",
    "        print(f\"Error: '{err}'\")\n",
    "\n",
    "    return connection"
   ]
  },
  {
   "cell_type": "markdown",
   "metadata": {},
   "source": [
    "# Function for Executing Queries"
   ]
  },
  {
   "cell_type": "code",
   "execution_count": 4,
   "metadata": {},
   "outputs": [],
   "source": [
    "def execute_query(connection, query):\n",
    "    cursor = connection.cursor()\n",
    "    try:\n",
    "        cursor.execute(query)\n",
    "        connection.commit()\n",
    "        print(\"Query successful\")\n",
    "    except Error as err:\n",
    "        print(f\"Error: '{err}'\")"
   ]
  },
  {
   "cell_type": "markdown",
   "metadata": {},
   "source": [
    "# Function for Reading data from Database"
   ]
  },
  {
   "cell_type": "code",
   "execution_count": 5,
   "metadata": {},
   "outputs": [],
   "source": [
    "def read_query(connection, query):\n",
    "    cursor = connection.cursor()\n",
    "    result = None\n",
    "    try:\n",
    "        cursor.execute(query)\n",
    "        result = cursor.fetchall()\n",
    "        return result\n",
    "    except Error as err:\n",
    "        print(f\"Error: '{err}'\")"
   ]
  },
  {
   "cell_type": "markdown",
   "metadata": {},
   "source": [
    "# Queries"
   ]
  },
  {
   "cell_type": "markdown",
   "metadata": {},
   "source": [
    "Select employee from management department"
   ]
  },
  {
   "cell_type": "code",
   "execution_count": 8,
   "metadata": {},
   "outputs": [
    {
     "name": "stdout",
     "output_type": "stream",
     "text": [
      "MySQL Database connection successful\n",
      "(10004, 'Rita')\n",
      "(10007, 'Rahul')\n",
      "(10012, 'John')\n"
     ]
    }
   ],
   "source": [
    "Query = \"\"\"\n",
    "SELECT Emp_id, Name\n",
    "FROM employee\n",
    "WHERE department = \"Management\";\n",
    "\"\"\"\n",
    "\n",
    "connection = create_db_connection(\"localhost\", \"root\", pw, \"mydb\")\n",
    "results = read_query(connection, Query)\n",
    "\n",
    "for result in results:\n",
    "  print(result)\n"
   ]
  },
  {
   "cell_type": "markdown",
   "metadata": {},
   "source": [
    "query to retrieve all rows of employee table whose total salary is less than 15000 using WHERE\n"
   ]
  },
  {
   "cell_type": "code",
   "execution_count": 10,
   "metadata": {},
   "outputs": [
    {
     "name": "stdout",
     "output_type": "stream",
     "text": [
      "MySQL Database connection successful\n",
      "(10001, 'Riya', 'Sales', 7000, 200, 100)\n",
      "(10008, 'Apoorva', 'Sales', 10000, 400, 300)\n",
      "(10010, 'Mohit', 'Sales', 12000, 400, 150)\n",
      "(10011, 'Suraj', 'Marketing', 14000, 300, 150)\n",
      "(10013, 'Rita', 'Sales', 10000, 300, 200)\n",
      "(10014, 'Apoorva', 'Sales', 12000, 400, 250)\n"
     ]
    }
   ],
   "source": [
    "Query2 = '''\n",
    "SELECT * FROM employee\n",
    "WHERE (Basic_salary + HRA + DA) < 15000;\n",
    "'''\n",
    "\n",
    "connection = create_db_connection(\"localhost\", \"root\", pw, \"mydb\")\n",
    "results = read_query(connection, Query2)\n",
    "\n",
    "for result in results:\n",
    "  print(result)\n"
   ]
  },
  {
   "cell_type": "markdown",
   "metadata": {},
   "source": [
    "query to retrieve employees working in Accounts and Sales department"
   ]
  },
  {
   "cell_type": "code",
   "execution_count": 11,
   "metadata": {},
   "outputs": [
    {
     "name": "stdout",
     "output_type": "stream",
     "text": [
      "MySQL Database connection successful\n",
      "(10001, 'Riya')\n",
      "(10002, 'Apoorva')\n",
      "(10005, 'Ajay')\n",
      "(10008, 'Apoorva')\n",
      "(10009, 'Kunal')\n",
      "(10010, 'Mohit')\n",
      "(10013, 'Rita')\n",
      "(10014, 'Apoorva')\n",
      "(10015, 'Ajay')\n"
     ]
    }
   ],
   "source": [
    "Query3 = '''\n",
    "SELECT Emp_id, Name\n",
    "FROM employee\n",
    "WHERE department IN (\"Accounts\", \"Sales\");\n",
    "'''\n",
    "\n",
    "connection = create_db_connection(\"localhost\", \"root\", pw, \"mydb\")\n",
    "results = read_query(connection, Query3)\n",
    "\n",
    "for result in results:\n",
    "  print(result)"
   ]
  },
  {
   "cell_type": "markdown",
   "metadata": {},
   "source": [
    "query to retrieve employees in the Descending Order of their Basic salary using ORDER BY"
   ]
  },
  {
   "cell_type": "code",
   "execution_count": 12,
   "metadata": {},
   "outputs": [
    {
     "name": "stdout",
     "output_type": "stream",
     "text": [
      "MySQL Database connection successful\n",
      "(10007, 'Rahul', 'Management', 30000, 1000, 800)\n",
      "(10004, 'Rita', 'Management', 25000, 400, 200)\n",
      "(10012, 'John', 'Management', 23000, 700, 500)\n",
      "(10002, 'Apoorva', 'Accounts', 20000, 300, 200)\n",
      "(10006, 'Riya', 'Marketing', 20000, 500, 400)\n",
      "(10009, 'Kunal', 'Accounts', 18000, 500, 200)\n",
      "(10003, 'Mohit', 'Marketing', 17000, 500, 300)\n",
      "(10005, 'Ajay', 'Accounts', 15000, 350, 200)\n",
      "(10011, 'Suraj', 'Marketing', 14000, 300, 150)\n",
      "(10015, 'Ajay', 'Sales', 14000, 300, 800)\n",
      "(10010, 'Mohit', 'Sales', 12000, 400, 150)\n",
      "(10014, 'Apoorva', 'Sales', 12000, 400, 250)\n",
      "(10008, 'Apoorva', 'Sales', 10000, 400, 300)\n",
      "(10013, 'Rita', 'Sales', 10000, 300, 200)\n",
      "(10001, 'Riya', 'Sales', 7000, 200, 100)\n"
     ]
    }
   ],
   "source": [
    "Query4 = '''\n",
    "SELECT *\n",
    "FROM employee\n",
    "ORDER BY Basic_salary DESC;\n",
    "'''\n",
    "\n",
    "connection = create_db_connection(\"localhost\", \"root\", pw, \"mydb\")\n",
    "results = read_query(connection, Query4)\n",
    "\n",
    "for result in results:\n",
    "  print(result)"
   ]
  },
  {
   "cell_type": "markdown",
   "metadata": {},
   "source": [
    "query to retrieve Departments whose Total salary is greater than 60000 using GROUP BY"
   ]
  },
  {
   "cell_type": "code",
   "execution_count": 15,
   "metadata": {
    "scrolled": true
   },
   "outputs": [
    {
     "name": "stdout",
     "output_type": "stream",
     "text": [
      "MySQL Database connection successful\n",
      "('Sales',)\n",
      "('Management',)\n"
     ]
    }
   ],
   "source": [
    "Query5 = '''\n",
    "SELECT Department\n",
    "FROM employee \n",
    "GROUP BY Department \n",
    "HAVING SUM(Basic_salary + HRA + DA) > 60000;\n",
    "'''\n",
    "\n",
    "connection = create_db_connection(\"localhost\", \"root\", pw, \"mydb\")\n",
    "results = read_query(connection, Query5)\n",
    "\n",
    "for result in results:\n",
    "  print(result)\n"
   ]
  },
  {
   "cell_type": "markdown",
   "metadata": {},
   "source": [
    "Query to retrieve employees whose Total salary(Basic_salary + HRA + DA) is in between 10000 to 20000 using BETWEEN and AND"
   ]
  },
  {
   "cell_type": "code",
   "execution_count": 16,
   "metadata": {},
   "outputs": [
    {
     "name": "stdout",
     "output_type": "stream",
     "text": [
      "MySQL Database connection successful\n",
      "(10003, 'Mohit', 'Marketing', 17800)\n",
      "(10005, 'Ajay', 'Accounts', 15550)\n",
      "(10008, 'Apoorva', 'Sales', 10700)\n",
      "(10009, 'Kunal', 'Accounts', 18700)\n",
      "(10010, 'Mohit', 'Sales', 12550)\n",
      "(10011, 'Suraj', 'Marketing', 14450)\n",
      "(10013, 'Rita', 'Sales', 10500)\n",
      "(10014, 'Apoorva', 'Sales', 12650)\n",
      "(10015, 'Ajay', 'Sales', 15100)\n"
     ]
    }
   ],
   "source": [
    "Query6 = '''\n",
    "select Emp_id, Name, Department, (Basic_salary + HRA + DA) as 'Total salary' \n",
    "FROM employee \n",
    "WHERE (Basic_salary + HRA + DA) between 10000 and 20000;\n",
    "'''\n",
    "\n",
    "connection = create_db_connection(\"localhost\", \"root\", pw, \"mydb\")\n",
    "results = read_query(connection, Query6)\n",
    "\n",
    "for result in results:\n",
    "  print(result)\n"
   ]
  }
 ],
 "metadata": {
  "kernelspec": {
   "display_name": "Python 3",
   "language": "python",
   "name": "python3"
  },
  "language_info": {
   "codemirror_mode": {
    "name": "ipython",
    "version": 3
   },
   "file_extension": ".py",
   "mimetype": "text/x-python",
   "name": "python",
   "nbconvert_exporter": "python",
   "pygments_lexer": "ipython3",
   "version": "3.8.3"
  }
 },
 "nbformat": 4,
 "nbformat_minor": 4
}
